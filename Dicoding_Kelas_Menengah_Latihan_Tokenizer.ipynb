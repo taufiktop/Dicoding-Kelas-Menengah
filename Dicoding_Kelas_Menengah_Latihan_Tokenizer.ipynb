{
  "nbformat": 4,
  "nbformat_minor": 0,
  "metadata": {
    "colab": {
      "name": "Dicoding Kelas Menengah - Latihan Tokenizer.ipynb",
      "provenance": []
    },
    "kernelspec": {
      "name": "python3",
      "display_name": "Python 3"
    },
    "language_info": {
      "name": "python"
    }
  },
  "cells": [
    {
      "cell_type": "code",
      "metadata": {
        "id": "n486EXTLZD6q"
      },
      "source": [
        "from tensorflow.keras.preprocessing.text import Tokenizer\n",
        "\n",
        "tokenizer = Tokenizer(num_words= 15, oov_token='-')\n",
        "teks = ['Saya suka programming',\n",
        "        'Programming sangat menyenangkan!',\n",
        "        'Machine Learning berbeda dengan pemrograman konvensional']\n",
        "\n",
        "tokenizer.fit_on_texts(teks)"
      ],
      "execution_count": 1,
      "outputs": []
    },
    {
      "cell_type": "code",
      "metadata": {
        "colab": {
          "base_uri": "https://localhost:8080/"
        },
        "id": "4I56WfHaaJCV",
        "outputId": "2c61eb7e-0a6c-4901-e6dc-895283cf8e19"
      },
      "source": [
        "sequences = tokenizer.texts_to_sequences(teks)\n",
        "print(sequences)\n",
        "print(tokenizer.word_index)"
      ],
      "execution_count": 5,
      "outputs": [
        {
          "output_type": "stream",
          "text": [
            "[[3, 4, 2], [2, 5, 6], [7, 8, 9, 10, 11, 12]]\n",
            "{'-': 1, 'programming': 2, 'saya': 3, 'suka': 4, 'sangat': 5, 'menyenangkan': 6, 'machine': 7, 'learning': 8, 'berbeda': 9, 'dengan': 10, 'pemrograman': 11, 'konvensional': 12}\n"
          ],
          "name": "stdout"
        }
      ]
    },
    {
      "cell_type": "code",
      "metadata": {
        "colab": {
          "base_uri": "https://localhost:8080/"
        },
        "id": "ZYvsr0NQaVy9",
        "outputId": "51679e80-0860-4382-d87d-01bb858e5bcf"
      },
      "source": [
        "from tensorflow.keras.preprocessing.sequence import pad_sequences\n",
        "\n",
        "sequences_samapanjang = pad_sequences(sequences)\n",
        "print(sequences_samapanjang)\n",
        "\n",
        "#nol artinya karakternya kosong"
      ],
      "execution_count": 7,
      "outputs": [
        {
          "output_type": "stream",
          "text": [
            "[[ 0  0  0  3  4  2]\n",
            " [ 0  0  0  2  5  6]\n",
            " [ 7  8  9 10 11 12]]\n"
          ],
          "name": "stdout"
        }
      ]
    },
    {
      "cell_type": "code",
      "metadata": {
        "colab": {
          "base_uri": "https://localhost:8080/"
        },
        "id": "4CaB3hEIbE1F",
        "outputId": "0f5b7bae-cdd4-44c6-c522-713fe31e6a1c"
      },
      "source": [
        "#padding post agar 0 di pojok kanan atas\n",
        "#maxlen panjang per baris\n",
        "sequences_samapanjang1 = pad_sequences(sequences, \n",
        "                                      padding='post',\n",
        "                                      maxlen=5)\n",
        "print(sequences_samapanjang1)"
      ],
      "execution_count": 9,
      "outputs": [
        {
          "output_type": "stream",
          "text": [
            "[[ 3  4  2  0  0]\n",
            " [ 2  5  6  0  0]\n",
            " [ 8  9 10 11 12]]\n"
          ],
          "name": "stdout"
        }
      ]
    },
    {
      "cell_type": "code",
      "metadata": {
        "colab": {
          "base_uri": "https://localhost:8080/"
        },
        "id": "39HptdPobwS7",
        "outputId": "7b9a7972-15d3-4527-dee9-6d7afd8bcb8e"
      },
      "source": [
        "#truncate post untuk mengambil 5 kata/parameter terakhir\n",
        "sequences_samapanjang2 = pad_sequences(sequences, \n",
        "                                      padding='post',\n",
        "                                      maxlen=5,\n",
        "                                      truncating='post')\n",
        "print(sequences_samapanjang2)"
      ],
      "execution_count": 10,
      "outputs": [
        {
          "output_type": "stream",
          "text": [
            "[[ 3  4  2  0  0]\n",
            " [ 2  5  6  0  0]\n",
            " [ 7  8  9 10 11]]\n"
          ],
          "name": "stdout"
        }
      ]
    }
  ]
}